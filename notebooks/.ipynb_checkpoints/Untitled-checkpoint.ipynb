{
 "cells": [
  {
   "cell_type": "markdown",
   "metadata": {},
   "source": [
    "We want to log training sessions. \n",
    "\n",
    "There are two types of comments: instructions and comments. Instructions belong to the template and are not logged. They appear to the user and provide guidance on how to train.\n",
    "\n",
    "Sessions can have comments, a date and units. Units are composed of an array of sets and comments. The smallest unit is therefore just a unit with a single set. This structure allows us to log the work performed in supersets, circuits, giant sets, etc. A lot of information (i.e. rest) is ommitted.\n",
    "\n",
    "A set is a list of exercises. Exercises consist of a name, work and resistance. Work can be measured in reps or time (seconds, minutes, hours). Resistance is a list of resistances. A resistance consists of a unit and a value, such as 50 kilos, 15 tube, or 44 band. This structure omits calisthenic variations as resistance, but I might get to that later."
   ]
  },
  {
   "cell_type": "code",
   "execution_count": 1,
   "metadata": {},
   "outputs": [],
   "source": [
    "from dataclasses import dataclass\n",
    "\n",
    "@dataclass\n",
    "class Measurable:\n",
    "    value: int\n",
    "    unit: str\n",
    "\n",
    "class Resistance(Measurable):\n",
    "    pass\n",
    "\n",
    "class Work(Measurable):\n",
    "    pass\n",
    "        \n",
    "@dataclass\n",
    "class Exercise:\n",
    "    name: str\n",
    "    work: Work\n",
    "    resistance: list\n",
    "    comments: str = \"\""
   ]
  },
  {
   "cell_type": "code",
   "execution_count": 4,
   "metadata": {},
   "outputs": [
    {
     "data": {
      "text/plain": [
       "Exercise(name='Pullover', work=Work(value=12, unit='reps'), resistance=Resistance(value=50, unit='kilo'))"
      ]
     },
     "execution_count": 4,
     "metadata": {},
     "output_type": "execute_result"
    }
   ],
   "source": [
    "Exercise('Pullover', Work(12,'reps'), Resistance(50, 'kilo'))"
   ]
  },
  {
   "cell_type": "code",
   "execution_count": 6,
   "metadata": {},
   "outputs": [],
   "source": [
    "@dataclass\n",
    "class Unit:\n",
    "    name: str\n",
    "    exercises: list\n",
    "    comments: str = \"\"\n",
    "\n",
    "from datetime import datetime\n",
    "\n",
    "class Session:\n",
    "    name: str\n",
    "    date: datetime\n",
    "    comments: str = \"\"\n",
    "    units: Unit"
   ]
  },
  {
   "cell_type": "markdown",
   "metadata": {},
   "source": [
    "Now we want to parse from .wm (Workout Markdown) format to Session"
   ]
  },
  {
   "cell_type": "code",
   "execution_count": 52,
   "metadata": {},
   "outputs": [],
   "source": [
    "workout = \\\n",
    "\"\"\"20200531 Lower 1\n",
    "Lower 1\n",
    "## The first line must be the title of the workout.\n",
    "## Comments which start with ## will not be logged and can be used\n",
    "## for instructions\n",
    "# Comments that start with a single # will be logged. This comment\n",
    "# will be logged under the session.\n",
    "@ on mondays\n",
    "## Use @ to write directives. The 'on' directive creates a new instance of the template file each week dated for the next monday.\n",
    "\n",
    "\n",
    "++ A\n",
    "## ++ Precedes the section name. In this case an EDT circuit.\n",
    "## Can be performed at beginning or end of workout\n",
    "## Perform as many sets in 15 minutes of:\n",
    "# This is a comment of the unit.\n",
    "\n",
    "+ Reverse flies\n",
    "## A + precedes an exercise name\n",
    "10 b12\n",
    "## Results are logged directly after the name of an exercise.\n",
    "12 b12\n",
    "8 b12\n",
    "+ Chest flies\n",
    "12 t10 t15\n",
    "## Resistance can be stacked\n",
    "12 t20\n",
    "12 t20 t10 \n",
    "+ Pulldown\n",
    "12 t30\n",
    "12 t30 t10\n",
    "12 b31\n",
    "\n",
    "++ B\n",
    "## Pullup and pushup technique work\n",
    "+ Pullup hangs\n",
    "20s 80\n",
    "## Time will be recognised automatically from number+{s,m,h}.\n",
    "## Use weight in kilos to refer to bodyweight\n",
    "+ Pushup planche\n",
    "30s 80\n",
    "+ Pullup holds on top\n",
    "20s 80\n",
    "+ Pushup bottom holds\n",
    "20s 80\n",
    "+ Pullup negatives\n",
    "5 80\n",
    "\n",
    "++ C\n",
    "## Pullups and pushups\n",
    "+ Pullups\n",
    "3 80\n",
    "2 80\n",
    "+ Pushups\n",
    "5 80\n",
    "4 80\n",
    "\n",
    "++ D\n",
    "+ Triceps extension\n",
    "+ Curls\n",
    "\"\"\""
   ]
  },
  {
   "cell_type": "code",
   "execution_count": 54,
   "metadata": {},
   "outputs": [
    {
     "ename": "NameError",
     "evalue": "name 'parse_exercises' is not defined",
     "output_type": "error",
     "traceback": [
      "\u001b[0;31m---------------------------------------------------------------------------\u001b[0m",
      "\u001b[0;31mNameError\u001b[0m                                 Traceback (most recent call last)",
      "\u001b[0;32m<ipython-input-54-6ef050a1bd6a>\u001b[0m in \u001b[0;36m<module>\u001b[0;34m\u001b[0m\n\u001b[1;32m     86\u001b[0m \u001b[0;34m\u001b[0m\u001b[0m\n\u001b[1;32m     87\u001b[0m \u001b[0;34m\u001b[0m\u001b[0m\n\u001b[0;32m---> 88\u001b[0;31m \u001b[0mparse_session\u001b[0m\u001b[0;34m(\u001b[0m\u001b[0mworkout\u001b[0m\u001b[0;34m)\u001b[0m\u001b[0;34m\u001b[0m\u001b[0;34m\u001b[0m\u001b[0m\n\u001b[0m",
      "\u001b[0;32m<ipython-input-54-6ef050a1bd6a>\u001b[0m in \u001b[0;36mparse_session\u001b[0;34m(session_as_string)\u001b[0m\n\u001b[1;32m     19\u001b[0m         \u001b[0;32mif\u001b[0m \u001b[0mis_start_of_unit\u001b[0m\u001b[0;34m(\u001b[0m\u001b[0mline\u001b[0m\u001b[0;34m)\u001b[0m\u001b[0;34m:\u001b[0m\u001b[0;34m\u001b[0m\u001b[0;34m\u001b[0m\u001b[0m\n\u001b[1;32m     20\u001b[0m             \u001b[0mfind_comments\u001b[0m \u001b[0;34m=\u001b[0m \u001b[0;32mFalse\u001b[0m\u001b[0;34m\u001b[0m\u001b[0;34m\u001b[0m\u001b[0m\n\u001b[0;32m---> 21\u001b[0;31m             \u001b[0mnew_unit\u001b[0m \u001b[0;34m=\u001b[0m \u001b[0mparse_unit\u001b[0m\u001b[0;34m(\u001b[0m\u001b[0mworkout_lines\u001b[0m\u001b[0;34m,\u001b[0m \u001b[0mi\u001b[0m\u001b[0;34m)\u001b[0m\u001b[0;34m\u001b[0m\u001b[0;34m\u001b[0m\u001b[0m\n\u001b[0m\u001b[1;32m     22\u001b[0m             \u001b[0mprint\u001b[0m\u001b[0;34m(\u001b[0m\u001b[0mnew_unit\u001b[0m\u001b[0;34m)\u001b[0m\u001b[0;34m\u001b[0m\u001b[0;34m\u001b[0m\u001b[0m\n\u001b[1;32m     23\u001b[0m \u001b[0;34m\u001b[0m\u001b[0m\n",
      "\u001b[0;32m<ipython-input-54-6ef050a1bd6a>\u001b[0m in \u001b[0;36mparse_unit\u001b[0;34m(workout_lines, i)\u001b[0m\n\u001b[1;32m     44\u001b[0m         \u001b[0;32mif\u001b[0m \u001b[0mis_start_of_exercise\u001b[0m\u001b[0;34m(\u001b[0m\u001b[0mline\u001b[0m\u001b[0;34m)\u001b[0m\u001b[0;34m:\u001b[0m\u001b[0;34m\u001b[0m\u001b[0;34m\u001b[0m\u001b[0m\n\u001b[1;32m     45\u001b[0m             \u001b[0mfind_comments\u001b[0m \u001b[0;34m=\u001b[0m \u001b[0;32mFalse\u001b[0m\u001b[0;34m\u001b[0m\u001b[0;34m\u001b[0m\u001b[0m\n\u001b[0;32m---> 46\u001b[0;31m             \u001b[0mnew_exercises\u001b[0m \u001b[0;34m=\u001b[0m \u001b[0mparse_exercises\u001b[0m\u001b[0;34m(\u001b[0m\u001b[0mworkout_lines\u001b[0m\u001b[0;34m,\u001b[0m \u001b[0mj\u001b[0m\u001b[0;34m)\u001b[0m\u001b[0;34m\u001b[0m\u001b[0;34m\u001b[0m\u001b[0m\n\u001b[0m\u001b[1;32m     47\u001b[0m             \u001b[0munit_exercises\u001b[0m \u001b[0;34m+=\u001b[0m \u001b[0mnew_exercises\u001b[0m\u001b[0;34m\u001b[0m\u001b[0;34m\u001b[0m\u001b[0m\n\u001b[1;32m     48\u001b[0m \u001b[0;34m\u001b[0m\u001b[0m\n",
      "\u001b[0;31mNameError\u001b[0m: name 'parse_exercises' is not defined"
     ]
    }
   ],
   "source": [
    "def parse_session(session_as_string):\n",
    "    workout_lines = session_as_string.splitlines()\n",
    "    session_name = workout_lines[1]\n",
    "    workout_lines = workout_lines[2:]\n",
    "    session_date = datetime.today()\n",
    "    session_units = []\n",
    "    session_comments = \"\"\n",
    "\n",
    "    find_comments = True\n",
    "    for i, line in enumerate(workout_lines):\n",
    "        \n",
    "        if is_instruction(line):\n",
    "            continue\n",
    "            \n",
    "        if is_comment(line) and find_comments:\n",
    "            session_comments += process_comment(line)\n",
    "            continue\n",
    "\n",
    "        if is_start_of_unit(line):\n",
    "            find_comments = False\n",
    "            new_unit = parse_unit(workout_lines, i)\n",
    "            print(new_unit)\n",
    "            \n",
    "            \n",
    "def parse_unit(workout_lines, i):\n",
    "    unit_name = workout_lines[i].strip('++ ')\n",
    "    unit_comments = \"\"\n",
    "    unit_exercises = []\n",
    "    find_comments = True\n",
    "    \n",
    "    for j, line in enumerate(workout_lines[i+1:]):\n",
    "        \n",
    "        if is_instruction(line):\n",
    "            continue\n",
    "            \n",
    "        if is_comment(line) and find_comments:\n",
    "            unit_comments += process_comment(line)\n",
    "            continue\n",
    "            \n",
    "        if is_start_of_unit(line):\n",
    "            break\n",
    "    \n",
    "        if is_start_of_exercise(line):\n",
    "            find_comments = False\n",
    "            new_exercises = parse_exercises(workout_lines, j)\n",
    "            unit_exercises += new_exercises\n",
    "        \n",
    "        if is_start_of_unit(line):\n",
    "            break\n",
    "    \n",
    "    return Unit(unit_name, unit_exercises, unit_comments)\n",
    "            \n",
    "\n",
    "def parse_exercises(workout_lines, j):\n",
    "    exercise_name = workout_lines[j].strip('+ ')\n",
    "    exercises = []\n",
    "    for line in workout_lines[j+1:]:\n",
    "        if is_start_of_unit(line) or is_start_of_exercise(line):\n",
    "            break\n",
    "        if is_instruction(line):\n",
    "            continue\n",
    "        exercise = parse_exercise(exercise_name, line)\n",
    "        exercises += [exercise,]\n",
    "    return exercises\n",
    "\n",
    "\n",
    "def parse_exercise(exercise_name, line):\n",
    "    work, resistance = line.split(' ', maxsplit=1)\n",
    "    print(work)\n",
    "    print(resistance)\n",
    "    \n",
    "    \n",
    "def is_instruction(line):\n",
    "    if len(line)>=2:\n",
    "        if line[0:2] == '##':\n",
    "                return True\n",
    "    return False\n",
    "\n",
    "\n",
    "def is_comment(line):\n",
    "    if len(line)>=1:\n",
    "        if line[0]=='#':\n",
    "            return True\n",
    "    return False\n",
    "\n",
    "\n",
    "def is_start_of_unit(line):\n",
    "    if len(line)>=2:\n",
    "        if line[0:2]=='++':\n",
    "            return True\n",
    "    return False\n",
    "\n",
    "\n",
    "def is_start_of_exercise(line):\n",
    "    if len(line)>=1:\n",
    "        if line[0:1]=='+':\n",
    "            return True\n",
    "    return False\n",
    "\n",
    "\n",
    "def process_comment(line):\n",
    "    return line.strip('# ')+'\\n'\n",
    "\n",
    "\n",
    "parse_session(workout)"
   ]
  },
  {
   "cell_type": "code",
   "execution_count": 55,
   "metadata": {},
   "outputs": [
    {
     "data": {
      "text/plain": [
       "datetime.datetime(2020, 5, 31, 12, 22, 14, 290974)"
      ]
     },
     "execution_count": 55,
     "metadata": {},
     "output_type": "execute_result"
    }
   ],
   "source": [
    "session_date"
   ]
  },
  {
   "cell_type": "code",
   "execution_count": null,
   "metadata": {},
   "outputs": [],
   "source": []
  }
 ],
 "metadata": {
  "kernelspec": {
   "display_name": "Python 3",
   "language": "python",
   "name": "python3"
  },
  "language_info": {
   "codemirror_mode": {
    "name": "ipython",
    "version": 3
   },
   "file_extension": ".py",
   "mimetype": "text/x-python",
   "name": "python",
   "nbconvert_exporter": "python",
   "pygments_lexer": "ipython3",
   "version": "3.8.2"
  }
 },
 "nbformat": 4,
 "nbformat_minor": 4
}
